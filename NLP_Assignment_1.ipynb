{
  "cells": [
    {
      "cell_type": "markdown",
      "metadata": {
        "id": "view-in-github",
        "colab_type": "text"
      },
      "source": [
        "<a href=\"https://colab.research.google.com/github/dev26git/NLP_Assignments/blob/main/NLP_Assignment_1.ipynb\" target=\"_parent\"><img src=\"https://colab.research.google.com/assets/colab-badge.svg\" alt=\"Open In Colab\"/></a>"
      ]
    },
    {
      "cell_type": "markdown",
      "metadata": {
        "id": "3qCzHLbBepai"
      },
      "source": [
        "# NLP Assignment 1\n",
        "### Devansh Singh\n",
        "### 21070126024\n",
        "### AIML-A2"
      ]
    },
    {
      "cell_type": "markdown",
      "metadata": {
        "id": "205BtLNqezPq"
      },
      "source": [
        "1) https://www.kaggle.com/datasets/mateibejan/multilingual-lyrics-for-genre-classification?select=train.csv (For A2 Select only english songs from genre Rock, Jazz, HipHop, Metal, Country.From Song Lyrics predict Genre.)\n",
        "\n",
        "2) DO FOLLOWING Preprocessing STEPS using NLTK or SpaCy:\n",
        "    a) Remove empty rows. Remove duplicates.\n",
        "    b) Tokenization, Lemmatization\n",
        "    b) Data Cleansing: Remove stopwords, remove symbols,remove emojis,     remove URLS, remove http tags, remove excess whitespaces.\n",
        "    c) Lower the strings, replace abbreviations, fix contractions.\n",
        "\n",
        "3) Use following as range of values for input variables:\n",
        "    For 1st set of results use:\n",
        "    a) batch_size = 4\n",
        "    b) max_sequence_length = 50\n",
        "    c) embedding_dim = 50\n",
        "    d) max_words = 10000\n",
        "    e) lstm_units = 32\n",
        "     \n",
        "    For 2st set of results use:\n",
        "    a) batch_size = 8\n",
        "    b) max_sequence_length = 30\n",
        "    c) embedding_dim = 30\n",
        "    d) max_words = 25000\n",
        "    e) lstm_units = 32\n",
        "\n",
        "4) Use following LSTM:\n",
        "    a) Single Layer of LSTM for 1st set of results\n",
        "    b) Two Layers of LSTM for 2nd set of results\n",
        "\n",
        "5) Compare the results using Classification Report.\n",
        "Assignment will be assessed as per Rubric and results will be compared with others. Make sure you get the best results."
      ]
    },
    {
      "cell_type": "code",
      "execution_count": null,
      "metadata": {
        "colab": {
          "base_uri": "https://localhost:8080/"
        },
        "id": "JfFWmhQpeC8S",
        "outputId": "1626f41e-21f3-4652-d83c-1c0421f05f87"
      },
      "outputs": [
        {
          "output_type": "stream",
          "name": "stdout",
          "text": [
            "Mounted at /content/drive\n"
          ]
        }
      ],
      "source": [
        "from google.colab import drive\n",
        "drive.mount('/content/drive')"
      ]
    },
    {
      "cell_type": "code",
      "execution_count": null,
      "metadata": {
        "id": "7htXWVNWi0cl",
        "colab": {
          "base_uri": "https://localhost:8080/"
        },
        "outputId": "f1d58c84-4879-4f5a-bc07-425ca6406457"
      },
      "outputs": [
        {
          "output_type": "execute_result",
          "data": {
            "text/plain": [
              "True"
            ]
          },
          "metadata": {},
          "execution_count": 2
        }
      ],
      "source": [
        "import nltk\n",
        "nltk.download('all', quiet=True)"
      ]
    },
    {
      "cell_type": "code",
      "execution_count": null,
      "metadata": {
        "id": "7U3IXnlCeBPd"
      },
      "outputs": [],
      "source": [
        "#Importing the Libraries for Prediction\n",
        "\n",
        "import numpy as np\n",
        "import pandas as pd\n",
        "import re\n",
        "from sklearn.model_selection import train_test_split\n",
        "from sklearn.feature_extraction.text import TfidfVectorizer\n",
        "from sklearn.naive_bayes import MultinomialNB\n",
        "from sklearn.metrics import accuracy_score\n",
        "\n",
        "\n",
        "from tensorflow.keras.models import Sequential\n",
        "from tensorflow.keras.layers import Embedding, LSTM, Dense"
      ]
    },
    {
      "cell_type": "code",
      "execution_count": null,
      "metadata": {
        "colab": {
          "base_uri": "https://localhost:8080/",
          "height": 204
        },
        "id": "MOi5IlJqeB0n",
        "outputId": "0e4cd0f3-a5db-45ce-ab7c-aaf7769cfd01"
      },
      "outputs": [
        {
          "output_type": "execute_result",
          "data": {
            "text/plain": [
              "      Artist                     Song Genre Language  \\\n",
              "0  12 stones            world so cold  Rock       en   \n",
              "1  12 stones                   broken  Rock       en   \n",
              "2  12 stones             3 leaf loser  Rock       en   \n",
              "3  12 stones  anthem for the underdog  Rock       en   \n",
              "4  12 stones               adrenaline  Rock       en   \n",
              "\n",
              "                                              Lyrics  \n",
              "0  It starts with pain, followed by hate\\nFueled ...  \n",
              "1  Freedom!\\nAlone again again alone\\nPatiently w...  \n",
              "2  Biting the hand that feeds you, lying to the v...  \n",
              "3  You say you know just who I am\\nBut you can't ...  \n",
              "4  My heart is beating faster can't control these...  "
            ],
            "text/html": [
              "\n",
              "  <div id=\"df-01356df7-a459-446c-bebf-bcf9eb184bef\" class=\"colab-df-container\">\n",
              "    <div>\n",
              "<style scoped>\n",
              "    .dataframe tbody tr th:only-of-type {\n",
              "        vertical-align: middle;\n",
              "    }\n",
              "\n",
              "    .dataframe tbody tr th {\n",
              "        vertical-align: top;\n",
              "    }\n",
              "\n",
              "    .dataframe thead th {\n",
              "        text-align: right;\n",
              "    }\n",
              "</style>\n",
              "<table border=\"1\" class=\"dataframe\">\n",
              "  <thead>\n",
              "    <tr style=\"text-align: right;\">\n",
              "      <th></th>\n",
              "      <th>Artist</th>\n",
              "      <th>Song</th>\n",
              "      <th>Genre</th>\n",
              "      <th>Language</th>\n",
              "      <th>Lyrics</th>\n",
              "    </tr>\n",
              "  </thead>\n",
              "  <tbody>\n",
              "    <tr>\n",
              "      <th>0</th>\n",
              "      <td>12 stones</td>\n",
              "      <td>world so cold</td>\n",
              "      <td>Rock</td>\n",
              "      <td>en</td>\n",
              "      <td>It starts with pain, followed by hate\\nFueled ...</td>\n",
              "    </tr>\n",
              "    <tr>\n",
              "      <th>1</th>\n",
              "      <td>12 stones</td>\n",
              "      <td>broken</td>\n",
              "      <td>Rock</td>\n",
              "      <td>en</td>\n",
              "      <td>Freedom!\\nAlone again again alone\\nPatiently w...</td>\n",
              "    </tr>\n",
              "    <tr>\n",
              "      <th>2</th>\n",
              "      <td>12 stones</td>\n",
              "      <td>3 leaf loser</td>\n",
              "      <td>Rock</td>\n",
              "      <td>en</td>\n",
              "      <td>Biting the hand that feeds you, lying to the v...</td>\n",
              "    </tr>\n",
              "    <tr>\n",
              "      <th>3</th>\n",
              "      <td>12 stones</td>\n",
              "      <td>anthem for the underdog</td>\n",
              "      <td>Rock</td>\n",
              "      <td>en</td>\n",
              "      <td>You say you know just who I am\\nBut you can't ...</td>\n",
              "    </tr>\n",
              "    <tr>\n",
              "      <th>4</th>\n",
              "      <td>12 stones</td>\n",
              "      <td>adrenaline</td>\n",
              "      <td>Rock</td>\n",
              "      <td>en</td>\n",
              "      <td>My heart is beating faster can't control these...</td>\n",
              "    </tr>\n",
              "  </tbody>\n",
              "</table>\n",
              "</div>\n",
              "    <div class=\"colab-df-buttons\">\n",
              "\n",
              "  <div class=\"colab-df-container\">\n",
              "    <button class=\"colab-df-convert\" onclick=\"convertToInteractive('df-01356df7-a459-446c-bebf-bcf9eb184bef')\"\n",
              "            title=\"Convert this dataframe to an interactive table.\"\n",
              "            style=\"display:none;\">\n",
              "\n",
              "  <svg xmlns=\"http://www.w3.org/2000/svg\" height=\"24px\" viewBox=\"0 -960 960 960\">\n",
              "    <path d=\"M120-120v-720h720v720H120Zm60-500h600v-160H180v160Zm220 220h160v-160H400v160Zm0 220h160v-160H400v160ZM180-400h160v-160H180v160Zm440 0h160v-160H620v160ZM180-180h160v-160H180v160Zm440 0h160v-160H620v160Z\"/>\n",
              "  </svg>\n",
              "    </button>\n",
              "\n",
              "  <style>\n",
              "    .colab-df-container {\n",
              "      display:flex;\n",
              "      gap: 12px;\n",
              "    }\n",
              "\n",
              "    .colab-df-convert {\n",
              "      background-color: #E8F0FE;\n",
              "      border: none;\n",
              "      border-radius: 50%;\n",
              "      cursor: pointer;\n",
              "      display: none;\n",
              "      fill: #1967D2;\n",
              "      height: 32px;\n",
              "      padding: 0 0 0 0;\n",
              "      width: 32px;\n",
              "    }\n",
              "\n",
              "    .colab-df-convert:hover {\n",
              "      background-color: #E2EBFA;\n",
              "      box-shadow: 0px 1px 2px rgba(60, 64, 67, 0.3), 0px 1px 3px 1px rgba(60, 64, 67, 0.15);\n",
              "      fill: #174EA6;\n",
              "    }\n",
              "\n",
              "    .colab-df-buttons div {\n",
              "      margin-bottom: 4px;\n",
              "    }\n",
              "\n",
              "    [theme=dark] .colab-df-convert {\n",
              "      background-color: #3B4455;\n",
              "      fill: #D2E3FC;\n",
              "    }\n",
              "\n",
              "    [theme=dark] .colab-df-convert:hover {\n",
              "      background-color: #434B5C;\n",
              "      box-shadow: 0px 1px 3px 1px rgba(0, 0, 0, 0.15);\n",
              "      filter: drop-shadow(0px 1px 2px rgba(0, 0, 0, 0.3));\n",
              "      fill: #FFFFFF;\n",
              "    }\n",
              "  </style>\n",
              "\n",
              "    <script>\n",
              "      const buttonEl =\n",
              "        document.querySelector('#df-01356df7-a459-446c-bebf-bcf9eb184bef button.colab-df-convert');\n",
              "      buttonEl.style.display =\n",
              "        google.colab.kernel.accessAllowed ? 'block' : 'none';\n",
              "\n",
              "      async function convertToInteractive(key) {\n",
              "        const element = document.querySelector('#df-01356df7-a459-446c-bebf-bcf9eb184bef');\n",
              "        const dataTable =\n",
              "          await google.colab.kernel.invokeFunction('convertToInteractive',\n",
              "                                                    [key], {});\n",
              "        if (!dataTable) return;\n",
              "\n",
              "        const docLinkHtml = 'Like what you see? Visit the ' +\n",
              "          '<a target=\"_blank\" href=https://colab.research.google.com/notebooks/data_table.ipynb>data table notebook</a>'\n",
              "          + ' to learn more about interactive tables.';\n",
              "        element.innerHTML = '';\n",
              "        dataTable['output_type'] = 'display_data';\n",
              "        await google.colab.output.renderOutput(dataTable, element);\n",
              "        const docLink = document.createElement('div');\n",
              "        docLink.innerHTML = docLinkHtml;\n",
              "        element.appendChild(docLink);\n",
              "      }\n",
              "    </script>\n",
              "  </div>\n",
              "\n",
              "\n",
              "<div id=\"df-5b6a3b64-f75f-4f32-a484-695d7b1b83bb\">\n",
              "  <button class=\"colab-df-quickchart\" onclick=\"quickchart('df-5b6a3b64-f75f-4f32-a484-695d7b1b83bb')\"\n",
              "            title=\"Suggest charts.\"\n",
              "            style=\"display:none;\">\n",
              "\n",
              "<svg xmlns=\"http://www.w3.org/2000/svg\" height=\"24px\"viewBox=\"0 0 24 24\"\n",
              "     width=\"24px\">\n",
              "    <g>\n",
              "        <path d=\"M19 3H5c-1.1 0-2 .9-2 2v14c0 1.1.9 2 2 2h14c1.1 0 2-.9 2-2V5c0-1.1-.9-2-2-2zM9 17H7v-7h2v7zm4 0h-2V7h2v10zm4 0h-2v-4h2v4z\"/>\n",
              "    </g>\n",
              "</svg>\n",
              "  </button>\n",
              "\n",
              "<style>\n",
              "  .colab-df-quickchart {\n",
              "      --bg-color: #E8F0FE;\n",
              "      --fill-color: #1967D2;\n",
              "      --hover-bg-color: #E2EBFA;\n",
              "      --hover-fill-color: #174EA6;\n",
              "      --disabled-fill-color: #AAA;\n",
              "      --disabled-bg-color: #DDD;\n",
              "  }\n",
              "\n",
              "  [theme=dark] .colab-df-quickchart {\n",
              "      --bg-color: #3B4455;\n",
              "      --fill-color: #D2E3FC;\n",
              "      --hover-bg-color: #434B5C;\n",
              "      --hover-fill-color: #FFFFFF;\n",
              "      --disabled-bg-color: #3B4455;\n",
              "      --disabled-fill-color: #666;\n",
              "  }\n",
              "\n",
              "  .colab-df-quickchart {\n",
              "    background-color: var(--bg-color);\n",
              "    border: none;\n",
              "    border-radius: 50%;\n",
              "    cursor: pointer;\n",
              "    display: none;\n",
              "    fill: var(--fill-color);\n",
              "    height: 32px;\n",
              "    padding: 0;\n",
              "    width: 32px;\n",
              "  }\n",
              "\n",
              "  .colab-df-quickchart:hover {\n",
              "    background-color: var(--hover-bg-color);\n",
              "    box-shadow: 0 1px 2px rgba(60, 64, 67, 0.3), 0 1px 3px 1px rgba(60, 64, 67, 0.15);\n",
              "    fill: var(--button-hover-fill-color);\n",
              "  }\n",
              "\n",
              "  .colab-df-quickchart-complete:disabled,\n",
              "  .colab-df-quickchart-complete:disabled:hover {\n",
              "    background-color: var(--disabled-bg-color);\n",
              "    fill: var(--disabled-fill-color);\n",
              "    box-shadow: none;\n",
              "  }\n",
              "\n",
              "  .colab-df-spinner {\n",
              "    border: 2px solid var(--fill-color);\n",
              "    border-color: transparent;\n",
              "    border-bottom-color: var(--fill-color);\n",
              "    animation:\n",
              "      spin 1s steps(1) infinite;\n",
              "  }\n",
              "\n",
              "  @keyframes spin {\n",
              "    0% {\n",
              "      border-color: transparent;\n",
              "      border-bottom-color: var(--fill-color);\n",
              "      border-left-color: var(--fill-color);\n",
              "    }\n",
              "    20% {\n",
              "      border-color: transparent;\n",
              "      border-left-color: var(--fill-color);\n",
              "      border-top-color: var(--fill-color);\n",
              "    }\n",
              "    30% {\n",
              "      border-color: transparent;\n",
              "      border-left-color: var(--fill-color);\n",
              "      border-top-color: var(--fill-color);\n",
              "      border-right-color: var(--fill-color);\n",
              "    }\n",
              "    40% {\n",
              "      border-color: transparent;\n",
              "      border-right-color: var(--fill-color);\n",
              "      border-top-color: var(--fill-color);\n",
              "    }\n",
              "    60% {\n",
              "      border-color: transparent;\n",
              "      border-right-color: var(--fill-color);\n",
              "    }\n",
              "    80% {\n",
              "      border-color: transparent;\n",
              "      border-right-color: var(--fill-color);\n",
              "      border-bottom-color: var(--fill-color);\n",
              "    }\n",
              "    90% {\n",
              "      border-color: transparent;\n",
              "      border-bottom-color: var(--fill-color);\n",
              "    }\n",
              "  }\n",
              "</style>\n",
              "\n",
              "  <script>\n",
              "    async function quickchart(key) {\n",
              "      const quickchartButtonEl =\n",
              "        document.querySelector('#' + key + ' button');\n",
              "      quickchartButtonEl.disabled = true;  // To prevent multiple clicks.\n",
              "      quickchartButtonEl.classList.add('colab-df-spinner');\n",
              "      try {\n",
              "        const charts = await google.colab.kernel.invokeFunction(\n",
              "            'suggestCharts', [key], {});\n",
              "      } catch (error) {\n",
              "        console.error('Error during call to suggestCharts:', error);\n",
              "      }\n",
              "      quickchartButtonEl.classList.remove('colab-df-spinner');\n",
              "      quickchartButtonEl.classList.add('colab-df-quickchart-complete');\n",
              "    }\n",
              "    (() => {\n",
              "      let quickchartButtonEl =\n",
              "        document.querySelector('#df-5b6a3b64-f75f-4f32-a484-695d7b1b83bb button');\n",
              "      quickchartButtonEl.style.display =\n",
              "        google.colab.kernel.accessAllowed ? 'block' : 'none';\n",
              "    })();\n",
              "  </script>\n",
              "</div>\n",
              "    </div>\n",
              "  </div>\n"
            ]
          },
          "metadata": {},
          "execution_count": 4
        }
      ],
      "source": [
        "# Load the CSV file into a pandas DataFrame\n",
        "df = pd.read_csv(\"/content/drive/MyDrive/NLP Assignments/Datasets/NLP_Dataset_1.csv\")\n",
        "df.head()"
      ]
    },
    {
      "cell_type": "code",
      "execution_count": null,
      "metadata": {
        "id": "bbXd1MSreB_u"
      },
      "outputs": [],
      "source": [
        "# keep only english songs\n",
        "\n",
        "df = df[df['Language'] == 'en']"
      ]
    },
    {
      "cell_type": "code",
      "execution_count": null,
      "metadata": {
        "colab": {
          "base_uri": "https://localhost:8080/"
        },
        "id": "q60pOBkRfcSy",
        "outputId": "d46dfd58-6e21-4440-f017-611b8ec04ab7"
      },
      "outputs": [
        {
          "output_type": "stream",
          "name": "stdout",
          "text": [
            "<class 'pandas.core.frame.DataFrame'>\n",
            "Int64Index: 250197 entries, 0 to 290182\n",
            "Data columns (total 5 columns):\n",
            " #   Column    Non-Null Count   Dtype \n",
            "---  ------    --------------   ----- \n",
            " 0   Artist    250197 non-null  object\n",
            " 1   Song      250196 non-null  object\n",
            " 2   Genre     250197 non-null  object\n",
            " 3   Language  250197 non-null  object\n",
            " 4   Lyrics    250197 non-null  object\n",
            "dtypes: object(5)\n",
            "memory usage: 11.5+ MB\n"
          ]
        }
      ],
      "source": [
        "df.info()"
      ]
    },
    {
      "cell_type": "code",
      "execution_count": null,
      "metadata": {
        "colab": {
          "base_uri": "https://localhost:8080/"
        },
        "id": "yXV33gNPfchX",
        "outputId": "bc7439a8-b33d-47b3-b315-de6b07555300"
      },
      "outputs": [
        {
          "output_type": "execute_result",
          "data": {
            "text/plain": [
              "Artist      0\n",
              "Song        1\n",
              "Genre       0\n",
              "Language    0\n",
              "Lyrics      0\n",
              "dtype: int64"
            ]
          },
          "metadata": {},
          "execution_count": 7
        }
      ],
      "source": [
        "df.isna().sum()"
      ]
    },
    {
      "cell_type": "code",
      "execution_count": null,
      "metadata": {
        "colab": {
          "base_uri": "https://localhost:8080/"
        },
        "id": "kf1ZHEI6fcp4",
        "outputId": "b3e4e9c1-2374-4573-b8b2-880438c25a08"
      },
      "outputs": [
        {
          "output_type": "execute_result",
          "data": {
            "text/plain": [
              "Artist      0\n",
              "Song        0\n",
              "Genre       0\n",
              "Language    0\n",
              "Lyrics      0\n",
              "dtype: int64"
            ]
          },
          "metadata": {},
          "execution_count": 8
        }
      ],
      "source": [
        "# Drop rows with missing values\n",
        "df.dropna(inplace=True)\n",
        "\n",
        "df.isna().sum()"
      ]
    },
    {
      "cell_type": "code",
      "execution_count": null,
      "metadata": {
        "id": "0652o5pMfcxz"
      },
      "outputs": [],
      "source": [
        "# Remove duplicate rows based on all columns\n",
        "df.drop_duplicates(inplace=True)"
      ]
    },
    {
      "cell_type": "code",
      "execution_count": null,
      "metadata": {
        "id": "MjMrzr53fc6e"
      },
      "outputs": [],
      "source": [
        "# Drop uneccessary columns\n",
        "\n",
        "df.drop(columns=['Artist', 'Song', 'Language'], inplace = True)"
      ]
    },
    {
      "cell_type": "code",
      "execution_count": null,
      "metadata": {
        "id": "CNoJ-Pe_fqPC"
      },
      "outputs": [],
      "source": [
        "# Drop few Genres\n",
        "\n",
        "keep_genres = ['Rock', 'Jazz', 'Hip-Hop', 'Metal', 'Country']\n",
        "df = df.loc[df['Genre'].isin(keep_genres)]"
      ]
    },
    {
      "cell_type": "code",
      "execution_count": null,
      "metadata": {
        "colab": {
          "base_uri": "https://localhost:8080/"
        },
        "id": "FP1ISS14fsNv",
        "outputId": "2b196614-4333-438c-c9a7-91f74760726e"
      },
      "outputs": [
        {
          "output_type": "execute_result",
          "data": {
            "text/plain": [
              "Rock       100478\n",
              "Metal       17976\n",
              "Jazz        13313\n",
              "Hip-Hop      2238\n",
              "Country      1890\n",
              "Name: Genre, dtype: int64"
            ]
          },
          "metadata": {},
          "execution_count": 12
        }
      ],
      "source": [
        "df.Genre.value_counts()"
      ]
    },
    {
      "cell_type": "code",
      "execution_count": null,
      "metadata": {
        "colab": {
          "base_uri": "https://localhost:8080/",
          "height": 154
        },
        "id": "hb0DVhQdfvnl",
        "outputId": "dd672699-42d7-43f6-c8b8-81e787bb1c0a"
      },
      "outputs": [
        {
          "output_type": "execute_result",
          "data": {
            "text/plain": [
              "\"It starts with pain, followed by hate\\nFueled by the endless questions no one can answer\\nA stain covers your heart and tears you apart\\nJust like a sleeping cancer\\nI don't believe men are born to be killers\\nI don't believe the world can be saved\\nHow did you get here and when did it start?\\nAn innocent child with a thorn in his heart\\nWhat kind of world do we live in?\\nWhere love is divided by hate\\nLoosing control of our feelings\\nWe all must be dreaming this life away\\nIn a world so cold\\nAre you sane, where's the shame?\\nA moment of time passes by you cannot rewind\\nWho's to blame and where did it start?\\nIs there a cure for your sickness\\nHave you no heart?\\nI don't believe men are born to be killers\\nI don't believe the world can't be saved\\nHow did you get here and when did it start?\\nAn innocent child with a thorn in his heart\\nWhat kind of world do we live in?\\nWhere love is divided by hate\\nSelling our soul for no reason\\nWe all must be dreaming this life away\\nIn a world so cold, In a world so cold\\nThere's a sickness inside you that wants to escape\\nIt's a feeling you get when you can't find your way\\nSo how many times must you fall to your knees?\\nNever, never, never, never, never do this again\\nIt starts with pain, followed by hate\\nNo I don't believe men are born to be killers\\nI don't believe that the world can't be saved\\nWhat kind of world do we live in\\nWhere love is divided by hate\\nLosing control of our feeling\\nWe're dreaming this life away\\nWhat kind of world do we live in\\nWhere love is divided by hate\\nSelling our soul for no reason\\nWe all must be dreaming this life away\\nIn a world so cold\\nIn a world so cold\""
            ],
            "application/vnd.google.colaboratory.intrinsic+json": {
              "type": "string"
            }
          },
          "metadata": {},
          "execution_count": 13
        }
      ],
      "source": [
        "# Sample Lyrics\n",
        "\n",
        "df.iloc[0,1]"
      ]
    },
    {
      "cell_type": "markdown",
      "metadata": {
        "id": "38wygxOpfxYV"
      },
      "source": [
        "# Preprocessing"
      ]
    },
    {
      "cell_type": "code",
      "execution_count": null,
      "metadata": {
        "colab": {
          "base_uri": "https://localhost:8080/",
          "height": 154
        },
        "id": "eG2rmk8ffyf5",
        "outputId": "a45f5c90-f1c8-46af-822c-2a71f27e35ce"
      },
      "outputs": [
        {
          "output_type": "execute_result",
          "data": {
            "text/plain": [
              "\"It starts with pain, followed by hate Fueled by the endless questions no one can answer A stain covers your heart and tears you apart Just like a sleeping cancer I don't believe men are born to be killers I don't believe the world can be saved How did you get here and when did it start? An innocent child with a thorn in his heart What kind of world do we live in? Where love is divided by hate Loosing control of our feelings We all must be dreaming this life away In a world so cold Are you sane, where's the shame? A moment of time passes by you cannot rewind Who's to blame and where did it start? Is there a cure for your sickness Have you no heart? I don't believe men are born to be killers I don't believe the world can't be saved How did you get here and when did it start? An innocent child with a thorn in his heart What kind of world do we live in? Where love is divided by hate Selling our soul for no reason We all must be dreaming this life away In a world so cold, In a world so cold There's a sickness inside you that wants to escape It's a feeling you get when you can't find your way So how many times must you fall to your knees? Never, never, never, never, never do this again It starts with pain, followed by hate No I don't believe men are born to be killers I don't believe that the world can't be saved What kind of world do we live in Where love is divided by hate Losing control of our feeling We're dreaming this life away What kind of world do we live in Where love is divided by hate Selling our soul for no reason We all must be dreaming this life away In a world so cold In a world so cold\""
            ],
            "application/vnd.google.colaboratory.intrinsic+json": {
              "type": "string"
            }
          },
          "metadata": {},
          "execution_count": 14
        }
      ],
      "source": [
        "# Remove new lines\n",
        "\n",
        "df['Lyrics'] = df['Lyrics'].apply(lambda txt: re.sub(r'\\n', ' ', txt))\n",
        "\n",
        "# Sample\n",
        "df.iloc[0,1]"
      ]
    },
    {
      "cell_type": "code",
      "execution_count": null,
      "metadata": {
        "colab": {
          "base_uri": "https://localhost:8080/",
          "height": 154
        },
        "id": "diZimuGSfyp8",
        "outputId": "30c3b767-a360-4d5b-d2df-0b986900189d"
      },
      "outputs": [
        {
          "output_type": "execute_result",
          "data": {
            "text/plain": [
              "\"it starts with pain, followed by hate fueled by the endless questions no one can answer a stain covers your heart and tears you apart just like a sleeping cancer i don't believe men are born to be killers i don't believe the world can be saved how did you get here and when did it start? an innocent child with a thorn in his heart what kind of world do we live in? where love is divided by hate loosing control of our feelings we all must be dreaming this life away in a world so cold are you sane, where's the shame? a moment of time passes by you cannot rewind who's to blame and where did it start? is there a cure for your sickness have you no heart? i don't believe men are born to be killers i don't believe the world can't be saved how did you get here and when did it start? an innocent child with a thorn in his heart what kind of world do we live in? where love is divided by hate selling our soul for no reason we all must be dreaming this life away in a world so cold, in a world so cold there's a sickness inside you that wants to escape it's a feeling you get when you can't find your way so how many times must you fall to your knees? never, never, never, never, never do this again it starts with pain, followed by hate no i don't believe men are born to be killers i don't believe that the world can't be saved what kind of world do we live in where love is divided by hate losing control of our feeling we're dreaming this life away what kind of world do we live in where love is divided by hate selling our soul for no reason we all must be dreaming this life away in a world so cold in a world so cold\""
            ],
            "application/vnd.google.colaboratory.intrinsic+json": {
              "type": "string"
            }
          },
          "metadata": {},
          "execution_count": 15
        }
      ],
      "source": [
        "# lower\n",
        "\n",
        "df['Lyrics'] = df['Lyrics'].str.lower()\n",
        "\n",
        "# Sample\n",
        "df.iloc[0,1]"
      ]
    },
    {
      "cell_type": "code",
      "execution_count": null,
      "metadata": {
        "colab": {
          "base_uri": "https://localhost:8080/"
        },
        "id": "6tbWDH_Rgohx",
        "outputId": "2d479e01-67d9-4b4d-9ff9-32fb4dde29e5"
      },
      "outputs": [
        {
          "output_type": "stream",
          "name": "stdout",
          "text": [
            "Collecting contractions\n",
            "  Downloading contractions-0.1.73-py2.py3-none-any.whl (8.7 kB)\n",
            "Collecting textsearch>=0.0.21 (from contractions)\n",
            "  Downloading textsearch-0.0.24-py2.py3-none-any.whl (7.6 kB)\n",
            "Collecting anyascii (from textsearch>=0.0.21->contractions)\n",
            "  Downloading anyascii-0.3.2-py3-none-any.whl (289 kB)\n",
            "\u001b[2K     \u001b[90m━━━━━━━━━━━━━━━━━━━━━━━━━━━━━━━━━━━━━━━\u001b[0m \u001b[32m289.9/289.9 kB\u001b[0m \u001b[31m7.7 MB/s\u001b[0m eta \u001b[36m0:00:00\u001b[0m\n",
            "\u001b[?25hCollecting pyahocorasick (from textsearch>=0.0.21->contractions)\n",
            "  Downloading pyahocorasick-2.0.0-cp310-cp310-manylinux_2_5_x86_64.manylinux1_x86_64.manylinux_2_12_x86_64.manylinux2010_x86_64.whl (110 kB)\n",
            "\u001b[2K     \u001b[90m━━━━━━━━━━━━━━━━━━━━━━━━━━━━━━━━━━━━━━\u001b[0m \u001b[32m110.8/110.8 kB\u001b[0m \u001b[31m11.3 MB/s\u001b[0m eta \u001b[36m0:00:00\u001b[0m\n",
            "\u001b[?25hInstalling collected packages: pyahocorasick, anyascii, textsearch, contractions\n",
            "Successfully installed anyascii-0.3.2 contractions-0.1.73 pyahocorasick-2.0.0 textsearch-0.0.24\n"
          ]
        }
      ],
      "source": [
        "!pip install contractions"
      ]
    },
    {
      "cell_type": "code",
      "execution_count": null,
      "metadata": {
        "colab": {
          "base_uri": "https://localhost:8080/",
          "height": 154
        },
        "id": "t2MzwHZofyyP",
        "outputId": "c38bc85c-1400-4e09-dd36-9a924c00a59f"
      },
      "outputs": [
        {
          "output_type": "execute_result",
          "data": {
            "text/plain": [
              "'it starts with pain, followed by hate fueled by the endless questions no one can answer a stain covers your heart and tears you apart just like a sleeping cancer i do not believe men are born to be killers i do not believe the world can be saved how did you get here and when did it start? an innocent child with a thorn in his heart what kind of world do we live in? where love is divided by hate loosing control of our feelings we all must be dreaming this life away in a world so cold are you sane, where is the shame? a moment of time passes by you cannot rewind who is to blame and where did it start? is there a cure for your sickness have you no heart? i do not believe men are born to be killers i do not believe the world cannot be saved how did you get here and when did it start? an innocent child with a thorn in his heart what kind of world do we live in? where love is divided by hate selling our soul for no reason we all must be dreaming this life away in a world so cold, in a world so cold there is a sickness inside you that wants to escape it is a feeling you get when you cannot find your way so how many times must you fall to your knees? never, never, never, never, never do this again it starts with pain, followed by hate no i do not believe men are born to be killers i do not believe that the world cannot be saved what kind of world do we live in where love is divided by hate losing control of our feeling we are dreaming this life away what kind of world do we live in where love is divided by hate selling our soul for no reason we all must be dreaming this life away in a world so cold in a world so cold'"
            ],
            "application/vnd.google.colaboratory.intrinsic+json": {
              "type": "string"
            }
          },
          "metadata": {},
          "execution_count": 17
        }
      ],
      "source": [
        "# Fix contractions\n",
        "import contractions\n",
        "\n",
        "df['Lyrics'] = df['Lyrics'].apply(lambda text: contractions.fix(text))\n",
        "\n",
        "# Sample\n",
        "df.iloc[0,1]"
      ]
    },
    {
      "cell_type": "code",
      "execution_count": null,
      "metadata": {
        "colab": {
          "base_uri": "https://localhost:8080/",
          "height": 154
        },
        "id": "csyT4pc3f4ZW",
        "outputId": "d0110427-10d8-45f1-9f32-ec0c59cfea0d"
      },
      "outputs": [
        {
          "output_type": "execute_result",
          "data": {
            "text/plain": [
              "'it starts with pain followed by hate fueled by the endless questions no one can answer a stain covers your heart and tears you apart just like a sleeping cancer i do not believe men are born to be killers i do not believe the world can be saved how did you get here and when did it start an innocent child with a thorn in his heart what kind of world do we live in where love is divided by hate loosing control of our feelings we all must be dreaming this life away in a world so cold are you sane where is the shame a moment of time passes by you cannot rewind who is to blame and where did it start is there a cure for your sickness have you no heart i do not believe men are born to be killers i do not believe the world cannot be saved how did you get here and when did it start an innocent child with a thorn in his heart what kind of world do we live in where love is divided by hate selling our soul for no reason we all must be dreaming this life away in a world so cold in a world so cold there is a sickness inside you that wants to escape it is a feeling you get when you cannot find your way so how many times must you fall to your knees never never never never never do this again it starts with pain followed by hate no i do not believe men are born to be killers i do not believe that the world cannot be saved what kind of world do we live in where love is divided by hate losing control of our feeling we are dreaming this life away what kind of world do we live in where love is divided by hate selling our soul for no reason we all must be dreaming this life away in a world so cold in a world so cold'"
            ],
            "application/vnd.google.colaboratory.intrinsic+json": {
              "type": "string"
            }
          },
          "metadata": {},
          "execution_count": 18
        }
      ],
      "source": [
        "# Remove Punctuations\n",
        "\n",
        "import string\n",
        "\n",
        "def remove_punctuations(text):\n",
        "    return \"\".join([c for c in text if c not in string.punctuation])\n",
        "\n",
        "df['Lyrics'] = df['Lyrics'].apply(lambda x: remove_punctuations(x))\n",
        "\n",
        "# Sample\n",
        "df.iloc[0,1]"
      ]
    },
    {
      "cell_type": "code",
      "execution_count": null,
      "metadata": {
        "colab": {
          "base_uri": "https://localhost:8080/"
        },
        "id": "MgUMw-VhifzL",
        "outputId": "6c186144-36da-46ab-fc61-aa63f267dd0c"
      },
      "outputs": [
        {
          "output_type": "execute_result",
          "data": {
            "text/plain": [
              "True"
            ]
          },
          "metadata": {},
          "execution_count": 19
        }
      ],
      "source": [
        "nltk.download('all', quiet=True)"
      ]
    },
    {
      "cell_type": "code",
      "execution_count": null,
      "metadata": {
        "colab": {
          "base_uri": "https://localhost:8080/"
        },
        "id": "LhAjK2l_f6Ra",
        "outputId": "e8cd24dd-b9cf-48c9-961a-e7e4ab3e5ea8"
      },
      "outputs": [
        {
          "output_type": "execute_result",
          "data": {
            "text/plain": [
              "['it',\n",
              " 'starts',\n",
              " 'with',\n",
              " 'pain',\n",
              " 'followed',\n",
              " 'by',\n",
              " 'hate',\n",
              " 'fueled',\n",
              " 'by',\n",
              " 'the',\n",
              " 'endless',\n",
              " 'questions',\n",
              " 'no',\n",
              " 'one',\n",
              " 'can',\n",
              " 'answer',\n",
              " 'a',\n",
              " 'stain',\n",
              " 'covers',\n",
              " 'your',\n",
              " 'heart',\n",
              " 'and',\n",
              " 'tears',\n",
              " 'you',\n",
              " 'apart',\n",
              " 'just',\n",
              " 'like',\n",
              " 'a',\n",
              " 'sleeping',\n",
              " 'cancer',\n",
              " 'i',\n",
              " 'do',\n",
              " 'not',\n",
              " 'believe',\n",
              " 'men',\n",
              " 'are',\n",
              " 'born',\n",
              " 'to',\n",
              " 'be',\n",
              " 'killers',\n",
              " 'i',\n",
              " 'do',\n",
              " 'not',\n",
              " 'believe',\n",
              " 'the',\n",
              " 'world',\n",
              " 'can',\n",
              " 'be',\n",
              " 'saved',\n",
              " 'how',\n",
              " 'did',\n",
              " 'you',\n",
              " 'get',\n",
              " 'here',\n",
              " 'and',\n",
              " 'when',\n",
              " 'did',\n",
              " 'it',\n",
              " 'start',\n",
              " 'an',\n",
              " 'innocent',\n",
              " 'child',\n",
              " 'with',\n",
              " 'a',\n",
              " 'thorn',\n",
              " 'in',\n",
              " 'his',\n",
              " 'heart',\n",
              " 'what',\n",
              " 'kind',\n",
              " 'of',\n",
              " 'world',\n",
              " 'do',\n",
              " 'we',\n",
              " 'live',\n",
              " 'in',\n",
              " 'where',\n",
              " 'love',\n",
              " 'is',\n",
              " 'divided',\n",
              " 'by',\n",
              " 'hate',\n",
              " 'loosing',\n",
              " 'control',\n",
              " 'of',\n",
              " 'our',\n",
              " 'feelings',\n",
              " 'we',\n",
              " 'all',\n",
              " 'must',\n",
              " 'be',\n",
              " 'dreaming',\n",
              " 'this',\n",
              " 'life',\n",
              " 'away',\n",
              " 'in',\n",
              " 'a',\n",
              " 'world',\n",
              " 'so',\n",
              " 'cold',\n",
              " 'are',\n",
              " 'you',\n",
              " 'sane',\n",
              " 'where',\n",
              " 'is',\n",
              " 'the',\n",
              " 'shame',\n",
              " 'a',\n",
              " 'moment',\n",
              " 'of',\n",
              " 'time',\n",
              " 'passes',\n",
              " 'by',\n",
              " 'you',\n",
              " 'can',\n",
              " 'not',\n",
              " 'rewind',\n",
              " 'who',\n",
              " 'is',\n",
              " 'to',\n",
              " 'blame',\n",
              " 'and',\n",
              " 'where',\n",
              " 'did',\n",
              " 'it',\n",
              " 'start',\n",
              " 'is',\n",
              " 'there',\n",
              " 'a',\n",
              " 'cure',\n",
              " 'for',\n",
              " 'your',\n",
              " 'sickness',\n",
              " 'have',\n",
              " 'you',\n",
              " 'no',\n",
              " 'heart',\n",
              " 'i',\n",
              " 'do',\n",
              " 'not',\n",
              " 'believe',\n",
              " 'men',\n",
              " 'are',\n",
              " 'born',\n",
              " 'to',\n",
              " 'be',\n",
              " 'killers',\n",
              " 'i',\n",
              " 'do',\n",
              " 'not',\n",
              " 'believe',\n",
              " 'the',\n",
              " 'world',\n",
              " 'can',\n",
              " 'not',\n",
              " 'be',\n",
              " 'saved',\n",
              " 'how',\n",
              " 'did',\n",
              " 'you',\n",
              " 'get',\n",
              " 'here',\n",
              " 'and',\n",
              " 'when',\n",
              " 'did',\n",
              " 'it',\n",
              " 'start',\n",
              " 'an',\n",
              " 'innocent',\n",
              " 'child',\n",
              " 'with',\n",
              " 'a',\n",
              " 'thorn',\n",
              " 'in',\n",
              " 'his',\n",
              " 'heart',\n",
              " 'what',\n",
              " 'kind',\n",
              " 'of',\n",
              " 'world',\n",
              " 'do',\n",
              " 'we',\n",
              " 'live',\n",
              " 'in',\n",
              " 'where',\n",
              " 'love',\n",
              " 'is',\n",
              " 'divided',\n",
              " 'by',\n",
              " 'hate',\n",
              " 'selling',\n",
              " 'our',\n",
              " 'soul',\n",
              " 'for',\n",
              " 'no',\n",
              " 'reason',\n",
              " 'we',\n",
              " 'all',\n",
              " 'must',\n",
              " 'be',\n",
              " 'dreaming',\n",
              " 'this',\n",
              " 'life',\n",
              " 'away',\n",
              " 'in',\n",
              " 'a',\n",
              " 'world',\n",
              " 'so',\n",
              " 'cold',\n",
              " 'in',\n",
              " 'a',\n",
              " 'world',\n",
              " 'so',\n",
              " 'cold',\n",
              " 'there',\n",
              " 'is',\n",
              " 'a',\n",
              " 'sickness',\n",
              " 'inside',\n",
              " 'you',\n",
              " 'that',\n",
              " 'wants',\n",
              " 'to',\n",
              " 'escape',\n",
              " 'it',\n",
              " 'is',\n",
              " 'a',\n",
              " 'feeling',\n",
              " 'you',\n",
              " 'get',\n",
              " 'when',\n",
              " 'you',\n",
              " 'can',\n",
              " 'not',\n",
              " 'find',\n",
              " 'your',\n",
              " 'way',\n",
              " 'so',\n",
              " 'how',\n",
              " 'many',\n",
              " 'times',\n",
              " 'must',\n",
              " 'you',\n",
              " 'fall',\n",
              " 'to',\n",
              " 'your',\n",
              " 'knees',\n",
              " 'never',\n",
              " 'never',\n",
              " 'never',\n",
              " 'never',\n",
              " 'never',\n",
              " 'do',\n",
              " 'this',\n",
              " 'again',\n",
              " 'it',\n",
              " 'starts',\n",
              " 'with',\n",
              " 'pain',\n",
              " 'followed',\n",
              " 'by',\n",
              " 'hate',\n",
              " 'no',\n",
              " 'i',\n",
              " 'do',\n",
              " 'not',\n",
              " 'believe',\n",
              " 'men',\n",
              " 'are',\n",
              " 'born',\n",
              " 'to',\n",
              " 'be',\n",
              " 'killers',\n",
              " 'i',\n",
              " 'do',\n",
              " 'not',\n",
              " 'believe',\n",
              " 'that',\n",
              " 'the',\n",
              " 'world',\n",
              " 'can',\n",
              " 'not',\n",
              " 'be',\n",
              " 'saved',\n",
              " 'what',\n",
              " 'kind',\n",
              " 'of',\n",
              " 'world',\n",
              " 'do',\n",
              " 'we',\n",
              " 'live',\n",
              " 'in',\n",
              " 'where',\n",
              " 'love',\n",
              " 'is',\n",
              " 'divided',\n",
              " 'by',\n",
              " 'hate',\n",
              " 'losing',\n",
              " 'control',\n",
              " 'of',\n",
              " 'our',\n",
              " 'feeling',\n",
              " 'we',\n",
              " 'are',\n",
              " 'dreaming',\n",
              " 'this',\n",
              " 'life',\n",
              " 'away',\n",
              " 'what',\n",
              " 'kind',\n",
              " 'of',\n",
              " 'world',\n",
              " 'do',\n",
              " 'we',\n",
              " 'live',\n",
              " 'in',\n",
              " 'where',\n",
              " 'love',\n",
              " 'is',\n",
              " 'divided',\n",
              " 'by',\n",
              " 'hate',\n",
              " 'selling',\n",
              " 'our',\n",
              " 'soul',\n",
              " 'for',\n",
              " 'no',\n",
              " 'reason',\n",
              " 'we',\n",
              " 'all',\n",
              " 'must',\n",
              " 'be',\n",
              " 'dreaming',\n",
              " 'this',\n",
              " 'life',\n",
              " 'away',\n",
              " 'in',\n",
              " 'a',\n",
              " 'world',\n",
              " 'so',\n",
              " 'cold',\n",
              " 'in',\n",
              " 'a',\n",
              " 'world',\n",
              " 'so',\n",
              " 'cold']"
            ]
          },
          "metadata": {},
          "execution_count": 20
        }
      ],
      "source": [
        "from nltk.tokenize import word_tokenize\n",
        "\n",
        "df['Lyrics'] = df['Lyrics'].apply(lambda text: word_tokenize(text))\n",
        "\n",
        "# Word tokenize also takes care of extra spaces around the words\n",
        "\n",
        "# Sample\n",
        "df.iloc[0,1]"
      ]
    },
    {
      "cell_type": "code",
      "execution_count": null,
      "metadata": {
        "id": "_yRJ813dgBD6",
        "colab": {
          "base_uri": "https://localhost:8080/"
        },
        "outputId": "3dc10a1c-c2a8-4a03-f5a8-40f1596c978f"
      },
      "outputs": [
        {
          "output_type": "execute_result",
          "data": {
            "text/plain": [
              "['it',\n",
              " 'start',\n",
              " 'with',\n",
              " 'pain',\n",
              " 'followed',\n",
              " 'by',\n",
              " 'hate',\n",
              " 'fueled',\n",
              " 'by',\n",
              " 'the',\n",
              " 'endless',\n",
              " 'question',\n",
              " 'no',\n",
              " 'one',\n",
              " 'can',\n",
              " 'answer',\n",
              " 'a',\n",
              " 'stain',\n",
              " 'cover',\n",
              " 'your',\n",
              " 'heart',\n",
              " 'and',\n",
              " 'tear',\n",
              " 'you',\n",
              " 'apart',\n",
              " 'just',\n",
              " 'like',\n",
              " 'a',\n",
              " 'sleeping',\n",
              " 'cancer',\n",
              " 'i',\n",
              " 'do',\n",
              " 'not',\n",
              " 'believe',\n",
              " 'men',\n",
              " 'are',\n",
              " 'born',\n",
              " 'to',\n",
              " 'be',\n",
              " 'killer',\n",
              " 'i',\n",
              " 'do',\n",
              " 'not',\n",
              " 'believe',\n",
              " 'the',\n",
              " 'world',\n",
              " 'can',\n",
              " 'be',\n",
              " 'saved',\n",
              " 'how',\n",
              " 'did',\n",
              " 'you',\n",
              " 'get',\n",
              " 'here',\n",
              " 'and',\n",
              " 'when',\n",
              " 'did',\n",
              " 'it',\n",
              " 'start',\n",
              " 'an',\n",
              " 'innocent',\n",
              " 'child',\n",
              " 'with',\n",
              " 'a',\n",
              " 'thorn',\n",
              " 'in',\n",
              " 'his',\n",
              " 'heart',\n",
              " 'what',\n",
              " 'kind',\n",
              " 'of',\n",
              " 'world',\n",
              " 'do',\n",
              " 'we',\n",
              " 'live',\n",
              " 'in',\n",
              " 'where',\n",
              " 'love',\n",
              " 'is',\n",
              " 'divided',\n",
              " 'by',\n",
              " 'hate',\n",
              " 'loosing',\n",
              " 'control',\n",
              " 'of',\n",
              " 'our',\n",
              " 'feeling',\n",
              " 'we',\n",
              " 'all',\n",
              " 'must',\n",
              " 'be',\n",
              " 'dreaming',\n",
              " 'this',\n",
              " 'life',\n",
              " 'away',\n",
              " 'in',\n",
              " 'a',\n",
              " 'world',\n",
              " 'so',\n",
              " 'cold',\n",
              " 'are',\n",
              " 'you',\n",
              " 'sane',\n",
              " 'where',\n",
              " 'is',\n",
              " 'the',\n",
              " 'shame',\n",
              " 'a',\n",
              " 'moment',\n",
              " 'of',\n",
              " 'time',\n",
              " 'pass',\n",
              " 'by',\n",
              " 'you',\n",
              " 'can',\n",
              " 'not',\n",
              " 'rewind',\n",
              " 'who',\n",
              " 'is',\n",
              " 'to',\n",
              " 'blame',\n",
              " 'and',\n",
              " 'where',\n",
              " 'did',\n",
              " 'it',\n",
              " 'start',\n",
              " 'is',\n",
              " 'there',\n",
              " 'a',\n",
              " 'cure',\n",
              " 'for',\n",
              " 'your',\n",
              " 'sickness',\n",
              " 'have',\n",
              " 'you',\n",
              " 'no',\n",
              " 'heart',\n",
              " 'i',\n",
              " 'do',\n",
              " 'not',\n",
              " 'believe',\n",
              " 'men',\n",
              " 'are',\n",
              " 'born',\n",
              " 'to',\n",
              " 'be',\n",
              " 'killer',\n",
              " 'i',\n",
              " 'do',\n",
              " 'not',\n",
              " 'believe',\n",
              " 'the',\n",
              " 'world',\n",
              " 'can',\n",
              " 'not',\n",
              " 'be',\n",
              " 'saved',\n",
              " 'how',\n",
              " 'did',\n",
              " 'you',\n",
              " 'get',\n",
              " 'here',\n",
              " 'and',\n",
              " 'when',\n",
              " 'did',\n",
              " 'it',\n",
              " 'start',\n",
              " 'an',\n",
              " 'innocent',\n",
              " 'child',\n",
              " 'with',\n",
              " 'a',\n",
              " 'thorn',\n",
              " 'in',\n",
              " 'his',\n",
              " 'heart',\n",
              " 'what',\n",
              " 'kind',\n",
              " 'of',\n",
              " 'world',\n",
              " 'do',\n",
              " 'we',\n",
              " 'live',\n",
              " 'in',\n",
              " 'where',\n",
              " 'love',\n",
              " 'is',\n",
              " 'divided',\n",
              " 'by',\n",
              " 'hate',\n",
              " 'selling',\n",
              " 'our',\n",
              " 'soul',\n",
              " 'for',\n",
              " 'no',\n",
              " 'reason',\n",
              " 'we',\n",
              " 'all',\n",
              " 'must',\n",
              " 'be',\n",
              " 'dreaming',\n",
              " 'this',\n",
              " 'life',\n",
              " 'away',\n",
              " 'in',\n",
              " 'a',\n",
              " 'world',\n",
              " 'so',\n",
              " 'cold',\n",
              " 'in',\n",
              " 'a',\n",
              " 'world',\n",
              " 'so',\n",
              " 'cold',\n",
              " 'there',\n",
              " 'is',\n",
              " 'a',\n",
              " 'sickness',\n",
              " 'inside',\n",
              " 'you',\n",
              " 'that',\n",
              " 'want',\n",
              " 'to',\n",
              " 'escape',\n",
              " 'it',\n",
              " 'is',\n",
              " 'a',\n",
              " 'feeling',\n",
              " 'you',\n",
              " 'get',\n",
              " 'when',\n",
              " 'you',\n",
              " 'can',\n",
              " 'not',\n",
              " 'find',\n",
              " 'your',\n",
              " 'way',\n",
              " 'so',\n",
              " 'how',\n",
              " 'many',\n",
              " 'time',\n",
              " 'must',\n",
              " 'you',\n",
              " 'fall',\n",
              " 'to',\n",
              " 'your',\n",
              " 'knee',\n",
              " 'never',\n",
              " 'never',\n",
              " 'never',\n",
              " 'never',\n",
              " 'never',\n",
              " 'do',\n",
              " 'this',\n",
              " 'again',\n",
              " 'it',\n",
              " 'start',\n",
              " 'with',\n",
              " 'pain',\n",
              " 'followed',\n",
              " 'by',\n",
              " 'hate',\n",
              " 'no',\n",
              " 'i',\n",
              " 'do',\n",
              " 'not',\n",
              " 'believe',\n",
              " 'men',\n",
              " 'are',\n",
              " 'born',\n",
              " 'to',\n",
              " 'be',\n",
              " 'killer',\n",
              " 'i',\n",
              " 'do',\n",
              " 'not',\n",
              " 'believe',\n",
              " 'that',\n",
              " 'the',\n",
              " 'world',\n",
              " 'can',\n",
              " 'not',\n",
              " 'be',\n",
              " 'saved',\n",
              " 'what',\n",
              " 'kind',\n",
              " 'of',\n",
              " 'world',\n",
              " 'do',\n",
              " 'we',\n",
              " 'live',\n",
              " 'in',\n",
              " 'where',\n",
              " 'love',\n",
              " 'is',\n",
              " 'divided',\n",
              " 'by',\n",
              " 'hate',\n",
              " 'losing',\n",
              " 'control',\n",
              " 'of',\n",
              " 'our',\n",
              " 'feeling',\n",
              " 'we',\n",
              " 'are',\n",
              " 'dreaming',\n",
              " 'this',\n",
              " 'life',\n",
              " 'away',\n",
              " 'what',\n",
              " 'kind',\n",
              " 'of',\n",
              " 'world',\n",
              " 'do',\n",
              " 'we',\n",
              " 'live',\n",
              " 'in',\n",
              " 'where',\n",
              " 'love',\n",
              " 'is',\n",
              " 'divided',\n",
              " 'by',\n",
              " 'hate',\n",
              " 'selling',\n",
              " 'our',\n",
              " 'soul',\n",
              " 'for',\n",
              " 'no',\n",
              " 'reason',\n",
              " 'we',\n",
              " 'all',\n",
              " 'must',\n",
              " 'be',\n",
              " 'dreaming',\n",
              " 'this',\n",
              " 'life',\n",
              " 'away',\n",
              " 'in',\n",
              " 'a',\n",
              " 'world',\n",
              " 'so',\n",
              " 'cold',\n",
              " 'in',\n",
              " 'a',\n",
              " 'world',\n",
              " 'so',\n",
              " 'cold']"
            ]
          },
          "metadata": {},
          "execution_count": 21
        }
      ],
      "source": [
        "# Lemmatization\n",
        "from nltk.stem import WordNetLemmatizer\n",
        "\n",
        "lemmatizer = WordNetLemmatizer()\n",
        "\n",
        "def get_lemmatized_list(text_list):\n",
        "    return [lemmatizer.lemmatize(word) for word in text_list]\n",
        "\n",
        "\n",
        "df['Lyrics'] = df['Lyrics'].apply(lambda text_list: get_lemmatized_list(text_list))\n",
        "\n",
        "# Sample\n",
        "df.iloc[0,1]"
      ]
    },
    {
      "cell_type": "code",
      "execution_count": null,
      "metadata": {
        "colab": {
          "base_uri": "https://localhost:8080/"
        },
        "id": "I5tqbYwJgDhQ",
        "outputId": "c1a6170f-7f57-4d6e-c0a2-022b44f8300c"
      },
      "outputs": [
        {
          "output_type": "execute_result",
          "data": {
            "text/plain": [
              "['start',\n",
              " 'pain',\n",
              " 'followed',\n",
              " 'hate',\n",
              " 'fueled',\n",
              " 'endless',\n",
              " 'question',\n",
              " 'one',\n",
              " 'answer',\n",
              " 'stain',\n",
              " 'cover',\n",
              " 'heart',\n",
              " 'tear',\n",
              " 'apart',\n",
              " 'like',\n",
              " 'sleeping',\n",
              " 'cancer',\n",
              " 'believe',\n",
              " 'men',\n",
              " 'born',\n",
              " 'killer',\n",
              " 'believe',\n",
              " 'world',\n",
              " 'saved',\n",
              " 'get',\n",
              " 'start',\n",
              " 'innocent',\n",
              " 'child',\n",
              " 'thorn',\n",
              " 'heart',\n",
              " 'kind',\n",
              " 'world',\n",
              " 'live',\n",
              " 'love',\n",
              " 'divided',\n",
              " 'hate',\n",
              " 'loosing',\n",
              " 'control',\n",
              " 'feeling',\n",
              " 'must',\n",
              " 'dreaming',\n",
              " 'life',\n",
              " 'away',\n",
              " 'world',\n",
              " 'cold',\n",
              " 'sane',\n",
              " 'shame',\n",
              " 'moment',\n",
              " 'time',\n",
              " 'pass',\n",
              " 'rewind',\n",
              " 'blame',\n",
              " 'start',\n",
              " 'cure',\n",
              " 'sickness',\n",
              " 'heart',\n",
              " 'believe',\n",
              " 'men',\n",
              " 'born',\n",
              " 'killer',\n",
              " 'believe',\n",
              " 'world',\n",
              " 'saved',\n",
              " 'get',\n",
              " 'start',\n",
              " 'innocent',\n",
              " 'child',\n",
              " 'thorn',\n",
              " 'heart',\n",
              " 'kind',\n",
              " 'world',\n",
              " 'live',\n",
              " 'love',\n",
              " 'divided',\n",
              " 'hate',\n",
              " 'selling',\n",
              " 'soul',\n",
              " 'reason',\n",
              " 'must',\n",
              " 'dreaming',\n",
              " 'life',\n",
              " 'away',\n",
              " 'world',\n",
              " 'cold',\n",
              " 'world',\n",
              " 'cold',\n",
              " 'sickness',\n",
              " 'inside',\n",
              " 'want',\n",
              " 'escape',\n",
              " 'feeling',\n",
              " 'get',\n",
              " 'find',\n",
              " 'way',\n",
              " 'many',\n",
              " 'time',\n",
              " 'must',\n",
              " 'fall',\n",
              " 'knee',\n",
              " 'never',\n",
              " 'never',\n",
              " 'never',\n",
              " 'never',\n",
              " 'never',\n",
              " 'start',\n",
              " 'pain',\n",
              " 'followed',\n",
              " 'hate',\n",
              " 'believe',\n",
              " 'men',\n",
              " 'born',\n",
              " 'killer',\n",
              " 'believe',\n",
              " 'world',\n",
              " 'saved',\n",
              " 'kind',\n",
              " 'world',\n",
              " 'live',\n",
              " 'love',\n",
              " 'divided',\n",
              " 'hate',\n",
              " 'losing',\n",
              " 'control',\n",
              " 'feeling',\n",
              " 'dreaming',\n",
              " 'life',\n",
              " 'away',\n",
              " 'kind',\n",
              " 'world',\n",
              " 'live',\n",
              " 'love',\n",
              " 'divided',\n",
              " 'hate',\n",
              " 'selling',\n",
              " 'soul',\n",
              " 'reason',\n",
              " 'must',\n",
              " 'dreaming',\n",
              " 'life',\n",
              " 'away',\n",
              " 'world',\n",
              " 'cold',\n",
              " 'world',\n",
              " 'cold']"
            ]
          },
          "metadata": {},
          "execution_count": 22
        }
      ],
      "source": [
        "# Remove Stopwords\n",
        "from nltk.corpus import stopwords\n",
        "\n",
        "stopwords_set = set(stopwords.words('english'))\n",
        "\n",
        "def remove_stopwords(text_list):\n",
        "    return [word for word in text_list if word not in stopwords_set]\n",
        "\n",
        "df['Lyrics'] = df['Lyrics'].apply(lambda text_list: remove_stopwords(text_list))\n",
        "\n",
        "# Sample\n",
        "df.iloc[0,1]"
      ]
    },
    {
      "cell_type": "code",
      "execution_count": null,
      "metadata": {
        "colab": {
          "base_uri": "https://localhost:8080/",
          "height": 419
        },
        "id": "kgcbWPsggFmc",
        "outputId": "d16cf96c-646d-4886-f42e-6b218fb9130d"
      },
      "outputs": [
        {
          "output_type": "execute_result",
          "data": {
            "text/plain": [
              "          Genre                                             Lyrics\n",
              "0          Rock  [start, pain, followed, hate, fueled, endless,...\n",
              "1          Rock  [freedom, alone, alone, patiently, waiting, ph...\n",
              "2          Rock  [biting, hand, feed, lying, voice, inside, rea...\n",
              "3          Rock  [say, know, imagine, wait, across, line, thoug...\n",
              "4          Rock  [heart, beating, faster, control, feeling, any...\n",
              "...         ...                                                ...\n",
              "290165    Metal  [used, blind, living, inside, dream, someone, ...\n",
              "290166    Metal  [trouble, pain, make, darkness, cry, scream, m...\n",
              "290169  Country  [well, seen, lately, never, call, ask, friend,...\n",
              "290172  Country  [rodeo, rodeo, riding, several, year, old, che...\n",
              "290174  Hip-Hop  [mr, cheek, basically, lb, fam, motherfuckin, ...\n",
              "\n",
              "[135895 rows x 2 columns]"
            ],
            "text/html": [
              "\n",
              "  <div id=\"df-af3dab00-48c5-4d2d-91ad-7264a9aac8dd\" class=\"colab-df-container\">\n",
              "    <div>\n",
              "<style scoped>\n",
              "    .dataframe tbody tr th:only-of-type {\n",
              "        vertical-align: middle;\n",
              "    }\n",
              "\n",
              "    .dataframe tbody tr th {\n",
              "        vertical-align: top;\n",
              "    }\n",
              "\n",
              "    .dataframe thead th {\n",
              "        text-align: right;\n",
              "    }\n",
              "</style>\n",
              "<table border=\"1\" class=\"dataframe\">\n",
              "  <thead>\n",
              "    <tr style=\"text-align: right;\">\n",
              "      <th></th>\n",
              "      <th>Genre</th>\n",
              "      <th>Lyrics</th>\n",
              "    </tr>\n",
              "  </thead>\n",
              "  <tbody>\n",
              "    <tr>\n",
              "      <th>0</th>\n",
              "      <td>Rock</td>\n",
              "      <td>[start, pain, followed, hate, fueled, endless,...</td>\n",
              "    </tr>\n",
              "    <tr>\n",
              "      <th>1</th>\n",
              "      <td>Rock</td>\n",
              "      <td>[freedom, alone, alone, patiently, waiting, ph...</td>\n",
              "    </tr>\n",
              "    <tr>\n",
              "      <th>2</th>\n",
              "      <td>Rock</td>\n",
              "      <td>[biting, hand, feed, lying, voice, inside, rea...</td>\n",
              "    </tr>\n",
              "    <tr>\n",
              "      <th>3</th>\n",
              "      <td>Rock</td>\n",
              "      <td>[say, know, imagine, wait, across, line, thoug...</td>\n",
              "    </tr>\n",
              "    <tr>\n",
              "      <th>4</th>\n",
              "      <td>Rock</td>\n",
              "      <td>[heart, beating, faster, control, feeling, any...</td>\n",
              "    </tr>\n",
              "    <tr>\n",
              "      <th>...</th>\n",
              "      <td>...</td>\n",
              "      <td>...</td>\n",
              "    </tr>\n",
              "    <tr>\n",
              "      <th>290165</th>\n",
              "      <td>Metal</td>\n",
              "      <td>[used, blind, living, inside, dream, someone, ...</td>\n",
              "    </tr>\n",
              "    <tr>\n",
              "      <th>290166</th>\n",
              "      <td>Metal</td>\n",
              "      <td>[trouble, pain, make, darkness, cry, scream, m...</td>\n",
              "    </tr>\n",
              "    <tr>\n",
              "      <th>290169</th>\n",
              "      <td>Country</td>\n",
              "      <td>[well, seen, lately, never, call, ask, friend,...</td>\n",
              "    </tr>\n",
              "    <tr>\n",
              "      <th>290172</th>\n",
              "      <td>Country</td>\n",
              "      <td>[rodeo, rodeo, riding, several, year, old, che...</td>\n",
              "    </tr>\n",
              "    <tr>\n",
              "      <th>290174</th>\n",
              "      <td>Hip-Hop</td>\n",
              "      <td>[mr, cheek, basically, lb, fam, motherfuckin, ...</td>\n",
              "    </tr>\n",
              "  </tbody>\n",
              "</table>\n",
              "<p>135895 rows × 2 columns</p>\n",
              "</div>\n",
              "    <div class=\"colab-df-buttons\">\n",
              "\n",
              "  <div class=\"colab-df-container\">\n",
              "    <button class=\"colab-df-convert\" onclick=\"convertToInteractive('df-af3dab00-48c5-4d2d-91ad-7264a9aac8dd')\"\n",
              "            title=\"Convert this dataframe to an interactive table.\"\n",
              "            style=\"display:none;\">\n",
              "\n",
              "  <svg xmlns=\"http://www.w3.org/2000/svg\" height=\"24px\" viewBox=\"0 -960 960 960\">\n",
              "    <path d=\"M120-120v-720h720v720H120Zm60-500h600v-160H180v160Zm220 220h160v-160H400v160Zm0 220h160v-160H400v160ZM180-400h160v-160H180v160Zm440 0h160v-160H620v160ZM180-180h160v-160H180v160Zm440 0h160v-160H620v160Z\"/>\n",
              "  </svg>\n",
              "    </button>\n",
              "\n",
              "  <style>\n",
              "    .colab-df-container {\n",
              "      display:flex;\n",
              "      gap: 12px;\n",
              "    }\n",
              "\n",
              "    .colab-df-convert {\n",
              "      background-color: #E8F0FE;\n",
              "      border: none;\n",
              "      border-radius: 50%;\n",
              "      cursor: pointer;\n",
              "      display: none;\n",
              "      fill: #1967D2;\n",
              "      height: 32px;\n",
              "      padding: 0 0 0 0;\n",
              "      width: 32px;\n",
              "    }\n",
              "\n",
              "    .colab-df-convert:hover {\n",
              "      background-color: #E2EBFA;\n",
              "      box-shadow: 0px 1px 2px rgba(60, 64, 67, 0.3), 0px 1px 3px 1px rgba(60, 64, 67, 0.15);\n",
              "      fill: #174EA6;\n",
              "    }\n",
              "\n",
              "    .colab-df-buttons div {\n",
              "      margin-bottom: 4px;\n",
              "    }\n",
              "\n",
              "    [theme=dark] .colab-df-convert {\n",
              "      background-color: #3B4455;\n",
              "      fill: #D2E3FC;\n",
              "    }\n",
              "\n",
              "    [theme=dark] .colab-df-convert:hover {\n",
              "      background-color: #434B5C;\n",
              "      box-shadow: 0px 1px 3px 1px rgba(0, 0, 0, 0.15);\n",
              "      filter: drop-shadow(0px 1px 2px rgba(0, 0, 0, 0.3));\n",
              "      fill: #FFFFFF;\n",
              "    }\n",
              "  </style>\n",
              "\n",
              "    <script>\n",
              "      const buttonEl =\n",
              "        document.querySelector('#df-af3dab00-48c5-4d2d-91ad-7264a9aac8dd button.colab-df-convert');\n",
              "      buttonEl.style.display =\n",
              "        google.colab.kernel.accessAllowed ? 'block' : 'none';\n",
              "\n",
              "      async function convertToInteractive(key) {\n",
              "        const element = document.querySelector('#df-af3dab00-48c5-4d2d-91ad-7264a9aac8dd');\n",
              "        const dataTable =\n",
              "          await google.colab.kernel.invokeFunction('convertToInteractive',\n",
              "                                                    [key], {});\n",
              "        if (!dataTable) return;\n",
              "\n",
              "        const docLinkHtml = 'Like what you see? Visit the ' +\n",
              "          '<a target=\"_blank\" href=https://colab.research.google.com/notebooks/data_table.ipynb>data table notebook</a>'\n",
              "          + ' to learn more about interactive tables.';\n",
              "        element.innerHTML = '';\n",
              "        dataTable['output_type'] = 'display_data';\n",
              "        await google.colab.output.renderOutput(dataTable, element);\n",
              "        const docLink = document.createElement('div');\n",
              "        docLink.innerHTML = docLinkHtml;\n",
              "        element.appendChild(docLink);\n",
              "      }\n",
              "    </script>\n",
              "  </div>\n",
              "\n",
              "\n",
              "<div id=\"df-80dc5527-17ff-4778-8a0c-133a2ae85628\">\n",
              "  <button class=\"colab-df-quickchart\" onclick=\"quickchart('df-80dc5527-17ff-4778-8a0c-133a2ae85628')\"\n",
              "            title=\"Suggest charts.\"\n",
              "            style=\"display:none;\">\n",
              "\n",
              "<svg xmlns=\"http://www.w3.org/2000/svg\" height=\"24px\"viewBox=\"0 0 24 24\"\n",
              "     width=\"24px\">\n",
              "    <g>\n",
              "        <path d=\"M19 3H5c-1.1 0-2 .9-2 2v14c0 1.1.9 2 2 2h14c1.1 0 2-.9 2-2V5c0-1.1-.9-2-2-2zM9 17H7v-7h2v7zm4 0h-2V7h2v10zm4 0h-2v-4h2v4z\"/>\n",
              "    </g>\n",
              "</svg>\n",
              "  </button>\n",
              "\n",
              "<style>\n",
              "  .colab-df-quickchart {\n",
              "      --bg-color: #E8F0FE;\n",
              "      --fill-color: #1967D2;\n",
              "      --hover-bg-color: #E2EBFA;\n",
              "      --hover-fill-color: #174EA6;\n",
              "      --disabled-fill-color: #AAA;\n",
              "      --disabled-bg-color: #DDD;\n",
              "  }\n",
              "\n",
              "  [theme=dark] .colab-df-quickchart {\n",
              "      --bg-color: #3B4455;\n",
              "      --fill-color: #D2E3FC;\n",
              "      --hover-bg-color: #434B5C;\n",
              "      --hover-fill-color: #FFFFFF;\n",
              "      --disabled-bg-color: #3B4455;\n",
              "      --disabled-fill-color: #666;\n",
              "  }\n",
              "\n",
              "  .colab-df-quickchart {\n",
              "    background-color: var(--bg-color);\n",
              "    border: none;\n",
              "    border-radius: 50%;\n",
              "    cursor: pointer;\n",
              "    display: none;\n",
              "    fill: var(--fill-color);\n",
              "    height: 32px;\n",
              "    padding: 0;\n",
              "    width: 32px;\n",
              "  }\n",
              "\n",
              "  .colab-df-quickchart:hover {\n",
              "    background-color: var(--hover-bg-color);\n",
              "    box-shadow: 0 1px 2px rgba(60, 64, 67, 0.3), 0 1px 3px 1px rgba(60, 64, 67, 0.15);\n",
              "    fill: var(--button-hover-fill-color);\n",
              "  }\n",
              "\n",
              "  .colab-df-quickchart-complete:disabled,\n",
              "  .colab-df-quickchart-complete:disabled:hover {\n",
              "    background-color: var(--disabled-bg-color);\n",
              "    fill: var(--disabled-fill-color);\n",
              "    box-shadow: none;\n",
              "  }\n",
              "\n",
              "  .colab-df-spinner {\n",
              "    border: 2px solid var(--fill-color);\n",
              "    border-color: transparent;\n",
              "    border-bottom-color: var(--fill-color);\n",
              "    animation:\n",
              "      spin 1s steps(1) infinite;\n",
              "  }\n",
              "\n",
              "  @keyframes spin {\n",
              "    0% {\n",
              "      border-color: transparent;\n",
              "      border-bottom-color: var(--fill-color);\n",
              "      border-left-color: var(--fill-color);\n",
              "    }\n",
              "    20% {\n",
              "      border-color: transparent;\n",
              "      border-left-color: var(--fill-color);\n",
              "      border-top-color: var(--fill-color);\n",
              "    }\n",
              "    30% {\n",
              "      border-color: transparent;\n",
              "      border-left-color: var(--fill-color);\n",
              "      border-top-color: var(--fill-color);\n",
              "      border-right-color: var(--fill-color);\n",
              "    }\n",
              "    40% {\n",
              "      border-color: transparent;\n",
              "      border-right-color: var(--fill-color);\n",
              "      border-top-color: var(--fill-color);\n",
              "    }\n",
              "    60% {\n",
              "      border-color: transparent;\n",
              "      border-right-color: var(--fill-color);\n",
              "    }\n",
              "    80% {\n",
              "      border-color: transparent;\n",
              "      border-right-color: var(--fill-color);\n",
              "      border-bottom-color: var(--fill-color);\n",
              "    }\n",
              "    90% {\n",
              "      border-color: transparent;\n",
              "      border-bottom-color: var(--fill-color);\n",
              "    }\n",
              "  }\n",
              "</style>\n",
              "\n",
              "  <script>\n",
              "    async function quickchart(key) {\n",
              "      const quickchartButtonEl =\n",
              "        document.querySelector('#' + key + ' button');\n",
              "      quickchartButtonEl.disabled = true;  // To prevent multiple clicks.\n",
              "      quickchartButtonEl.classList.add('colab-df-spinner');\n",
              "      try {\n",
              "        const charts = await google.colab.kernel.invokeFunction(\n",
              "            'suggestCharts', [key], {});\n",
              "      } catch (error) {\n",
              "        console.error('Error during call to suggestCharts:', error);\n",
              "      }\n",
              "      quickchartButtonEl.classList.remove('colab-df-spinner');\n",
              "      quickchartButtonEl.classList.add('colab-df-quickchart-complete');\n",
              "    }\n",
              "    (() => {\n",
              "      let quickchartButtonEl =\n",
              "        document.querySelector('#df-80dc5527-17ff-4778-8a0c-133a2ae85628 button');\n",
              "      quickchartButtonEl.style.display =\n",
              "        google.colab.kernel.accessAllowed ? 'block' : 'none';\n",
              "    })();\n",
              "  </script>\n",
              "</div>\n",
              "    </div>\n",
              "  </div>\n"
            ]
          },
          "metadata": {},
          "execution_count": 23
        }
      ],
      "source": [
        "df"
      ]
    },
    {
      "cell_type": "markdown",
      "metadata": {
        "id": "Ppz5z1L0gIwN"
      },
      "source": [
        "# Single Layer LSTM\n",
        "For 1st set of results use:\n",
        "\n",
        "\n",
        "    a) batch_size = 4\n",
        "    b) max_sequence_length = 50\n",
        "    c) embedding_dim = 50\n",
        "    d) max_words = 10000\n",
        "    e) lstm_units = 32"
      ]
    },
    {
      "cell_type": "code",
      "execution_count": null,
      "metadata": {
        "id": "39ygM149gITx"
      },
      "outputs": [],
      "source": [
        "batch_size = 4\n",
        "max_sequence_length = 50\n",
        "embedding_dim = 50\n",
        "max_words = 10000\n",
        "lstm_units = 32"
      ]
    },
    {
      "cell_type": "code",
      "execution_count": null,
      "metadata": {
        "id": "1g3tRyxsgG49"
      },
      "outputs": [],
      "source": [
        "X = df['Lyrics'].values\n",
        "y = df['Genre'].values"
      ]
    },
    {
      "cell_type": "code",
      "execution_count": null,
      "metadata": {
        "id": "NCi7_1VzgU6T"
      },
      "outputs": [],
      "source": [
        "from tensorflow.keras.preprocessing.text import Tokenizer\n",
        "\n",
        "tokenizer = Tokenizer(num_words=max_words)\n",
        "tokenizer.fit_on_texts(X)\n",
        "X = tokenizer.texts_to_sequences(X)"
      ]
    },
    {
      "cell_type": "code",
      "execution_count": null,
      "metadata": {
        "id": "hC8BuWAugWHz"
      },
      "outputs": [],
      "source": [
        "from tensorflow.keras.preprocessing.sequence import pad_sequences\n",
        "\n",
        "X = pad_sequences(X, maxlen=max_sequence_length)"
      ]
    },
    {
      "cell_type": "code",
      "execution_count": null,
      "metadata": {
        "id": "V5bgt9dPgXk3"
      },
      "outputs": [],
      "source": [
        "# Encode the genre labels\n",
        "from sklearn.preprocessing import LabelEncoder\n",
        "\n",
        "label_encoder = LabelEncoder()\n",
        "y = label_encoder.fit_transform(y)"
      ]
    },
    {
      "cell_type": "code",
      "execution_count": null,
      "metadata": {
        "id": "gLXKn8a9gZUf"
      },
      "outputs": [],
      "source": [
        "from sklearn.model_selection import train_test_split\n",
        "\n",
        "X_train, X_test, y_train, y_test = train_test_split(X, y, test_size=0.2, random_state=42, stratify=y)"
      ]
    },
    {
      "cell_type": "code",
      "execution_count": null,
      "metadata": {
        "colab": {
          "base_uri": "https://localhost:8080/"
        },
        "id": "b4OMNjgedcvD",
        "outputId": "6174d9cc-6d05-4ee7-9bf8-451c9e83eb74"
      },
      "outputs": [
        {
          "output_type": "stream",
          "name": "stdout",
          "text": [
            "Model: \"sequential\"\n",
            "_________________________________________________________________\n",
            " Layer (type)                Output Shape              Param #   \n",
            "=================================================================\n",
            " embedding (Embedding)       (None, 50, 50)            500000    \n",
            "                                                                 \n",
            " lstm (LSTM)                 (None, 32)                10624     \n",
            "                                                                 \n",
            " dense (Dense)               (None, 5)                 165       \n",
            "                                                                 \n",
            "=================================================================\n",
            "Total params: 510789 (1.95 MB)\n",
            "Trainable params: 510789 (1.95 MB)\n",
            "Non-trainable params: 0 (0.00 Byte)\n",
            "_________________________________________________________________\n"
          ]
        }
      ],
      "source": [
        "# Build single layer LSTM model\n",
        "\n",
        "model_1 = Sequential()\n",
        "model_1.add(Embedding(input_dim=max_words, output_dim=embedding_dim, input_length=50))\n",
        "model_1.add(LSTM(lstm_units))\n",
        "model_1.add(Dense(len(label_encoder.classes_), activation='softmax'))\n",
        "\n",
        "model_1.compile(loss='sparse_categorical_crossentropy', optimizer='adam', metrics=['accuracy'])\n",
        "\n",
        "model_1.summary()\n"
      ]
    },
    {
      "cell_type": "code",
      "execution_count": null,
      "metadata": {
        "colab": {
          "base_uri": "https://localhost:8080/"
        },
        "id": "no0Ixcfggck-",
        "outputId": "f7bb6f87-c6fb-4f5f-ae62-fa3fb1939521"
      },
      "outputs": [
        {
          "output_type": "stream",
          "name": "stdout",
          "text": [
            "Epoch 1/5\n",
            "27179/27179 [==============================] - 358s 13ms/step - loss: 0.6346 - accuracy: 0.7868 - val_loss: 0.5775 - val_accuracy: 0.8073\n",
            "Epoch 2/5\n",
            "27179/27179 [==============================] - 357s 13ms/step - loss: 0.5300 - accuracy: 0.8246 - val_loss: 0.5625 - val_accuracy: 0.8143\n",
            "Epoch 3/5\n",
            "27179/27179 [==============================] - 356s 13ms/step - loss: 0.4794 - accuracy: 0.8419 - val_loss: 0.5640 - val_accuracy: 0.8145\n",
            "Epoch 4/5\n",
            "27179/27179 [==============================] - 359s 13ms/step - loss: 0.4355 - accuracy: 0.8562 - val_loss: 0.5783 - val_accuracy: 0.8142\n",
            "Epoch 5/5\n",
            "27179/27179 [==============================] - 358s 13ms/step - loss: 0.3937 - accuracy: 0.8707 - val_loss: 0.6168 - val_accuracy: 0.8047\n"
          ]
        },
        {
          "output_type": "execute_result",
          "data": {
            "text/plain": [
              "<keras.src.callbacks.History at 0x7a419875d000>"
            ]
          },
          "metadata": {},
          "execution_count": 31
        }
      ],
      "source": [
        "model_1.fit(X_train, y_train, epochs=5, batch_size=batch_size, validation_data=(X_test, y_test))"
      ]
    },
    {
      "cell_type": "code",
      "source": [
        "model_1.save('/content/drive/MyDrive/NLP Assignments/Models/1_model_1.keras')"
      ],
      "metadata": {
        "id": "gZAEUjRbFkzk"
      },
      "execution_count": null,
      "outputs": []
    },
    {
      "cell_type": "code",
      "source": [
        "y_pred = model_1.predict(X_test)\n",
        "\n",
        "y_pred = np.argmax(y_pred, axis=1)\n",
        "\n",
        "from sklearn.metrics import classification_report\n",
        "\n",
        "class_report_1 = classification_report(y_test, y_pred, target_names=label_encoder.classes_)"
      ],
      "metadata": {
        "colab": {
          "base_uri": "https://localhost:8080/"
        },
        "id": "wzwtoYQoWvxw",
        "outputId": "0fac1bbd-03bc-4c42-dd84-48e15abf0cf4"
      },
      "execution_count": null,
      "outputs": [
        {
          "output_type": "stream",
          "name": "stdout",
          "text": [
            "850/850 [==============================] - 4s 4ms/step\n"
          ]
        }
      ]
    },
    {
      "cell_type": "markdown",
      "metadata": {
        "id": "99iLOlt6-gvu"
      },
      "source": [
        "<br>\n",
        "<br>\n",
        "<br>\n",
        "<br>\n",
        "\n",
        "# 2-Layer LSTM\n",
        "\n",
        "For 2nd set of results use:\n",
        "\n",
        "> Indented block\n",
        "  a) batch_size = 8\n",
        "  b) max_sequence_length = 30\n",
        "  c) embedding_dim = 30\n",
        "  d) max_words = 25000\n",
        "  e) lstm_units = 32\n",
        "  "
      ]
    },
    {
      "cell_type": "code",
      "execution_count": null,
      "metadata": {
        "id": "j3J0Raen_NRO"
      },
      "outputs": [],
      "source": [
        "batch_size = 8\n",
        "max_sequence_length = 30\n",
        "embedding_dim = 30\n",
        "max_words = 25000\n",
        "lstm_units = 32"
      ]
    },
    {
      "cell_type": "code",
      "execution_count": null,
      "metadata": {
        "id": "HqSdqe3e_pjP"
      },
      "outputs": [],
      "source": [
        "X = df['Lyrics'].values\n",
        "y = df['Genre'].values"
      ]
    },
    {
      "cell_type": "code",
      "execution_count": null,
      "metadata": {
        "id": "lERbAP17_NRP"
      },
      "outputs": [],
      "source": [
        "from tensorflow.keras.preprocessing.text import Tokenizer\n",
        "\n",
        "tokenizer = Tokenizer(num_words=max_words)\n",
        "tokenizer.fit_on_texts(X)\n",
        "X = tokenizer.texts_to_sequences(X)"
      ]
    },
    {
      "cell_type": "code",
      "execution_count": null,
      "metadata": {
        "id": "EpJUCL7r_NRQ"
      },
      "outputs": [],
      "source": [
        "from tensorflow.keras.preprocessing.sequence import pad_sequences\n",
        "\n",
        "X = pad_sequences(X, maxlen=max_sequence_length)"
      ]
    },
    {
      "cell_type": "code",
      "execution_count": null,
      "metadata": {
        "id": "T9Rmpqfn_NRQ"
      },
      "outputs": [],
      "source": [
        "# Encode the genre labels\n",
        "from sklearn.preprocessing import LabelEncoder\n",
        "\n",
        "label_encoder = LabelEncoder()\n",
        "y = label_encoder.fit_transform(y)"
      ]
    },
    {
      "cell_type": "code",
      "execution_count": null,
      "metadata": {
        "id": "Gte-8TJB_NRR"
      },
      "outputs": [],
      "source": [
        "from sklearn.model_selection import train_test_split\n",
        "\n",
        "X_train, X_test, y_train, y_test = train_test_split(X, y, test_size=0.2, random_state=42, stratify=y)"
      ]
    },
    {
      "cell_type": "code",
      "execution_count": null,
      "metadata": {
        "colab": {
          "base_uri": "https://localhost:8080/"
        },
        "id": "Sh3vXWF9_NRR",
        "outputId": "494480f0-bc32-4165-df71-64e025388ab9"
      },
      "outputs": [
        {
          "output_type": "stream",
          "name": "stdout",
          "text": [
            "Model: \"sequential_1\"\n",
            "_________________________________________________________________\n",
            " Layer (type)                Output Shape              Param #   \n",
            "=================================================================\n",
            " embedding_1 (Embedding)     (None, 30, 30)            750000    \n",
            "                                                                 \n",
            " lstm_1 (LSTM)               (None, 32)                8064      \n",
            "                                                                 \n",
            " dense_1 (Dense)             (None, 5)                 165       \n",
            "                                                                 \n",
            "=================================================================\n",
            "Total params: 758229 (2.89 MB)\n",
            "Trainable params: 758229 (2.89 MB)\n",
            "Non-trainable params: 0 (0.00 Byte)\n",
            "_________________________________________________________________\n"
          ]
        }
      ],
      "source": [
        "# Build single layer LSTM model\n",
        "\n",
        "model_2 = Sequential()\n",
        "model_2.add(Embedding(input_dim=max_words, output_dim=embedding_dim, input_length=30))\n",
        "model_2.add(LSTM(lstm_units))\n",
        "model_2.add(Dense(len(label_encoder.classes_), activation='softmax'))\n",
        "\n",
        "model_2.compile(loss='sparse_categorical_crossentropy', optimizer='adam', metrics=['accuracy'])\n",
        "\n",
        "model_2.summary()\n"
      ]
    },
    {
      "cell_type": "code",
      "execution_count": null,
      "metadata": {
        "colab": {
          "base_uri": "https://localhost:8080/"
        },
        "id": "Kx0dfPtY_NRR",
        "outputId": "27478e39-47fa-43ed-a569-f0f6d2d95f6a"
      },
      "outputs": [
        {
          "output_type": "stream",
          "name": "stdout",
          "text": [
            "Epoch 1/5\n",
            "13590/13590 [==============================] - 193s 14ms/step - loss: 0.6563 - accuracy: 0.7805 - val_loss: 0.6014 - val_accuracy: 0.7970\n",
            "Epoch 2/5\n",
            "13590/13590 [==============================] - 189s 14ms/step - loss: 0.5472 - accuracy: 0.8187 - val_loss: 0.5874 - val_accuracy: 0.8053\n",
            "Epoch 3/5\n",
            "13590/13590 [==============================] - 188s 14ms/step - loss: 0.4886 - accuracy: 0.8397 - val_loss: 0.5996 - val_accuracy: 0.8021\n",
            "Epoch 4/5\n",
            "13590/13590 [==============================] - 189s 14ms/step - loss: 0.4371 - accuracy: 0.8570 - val_loss: 0.6128 - val_accuracy: 0.7991\n",
            "Epoch 5/5\n",
            "13590/13590 [==============================] - 190s 14ms/step - loss: 0.3888 - accuracy: 0.8735 - val_loss: 0.6490 - val_accuracy: 0.7996\n"
          ]
        },
        {
          "output_type": "execute_result",
          "data": {
            "text/plain": [
              "<keras.src.callbacks.History at 0x7a41906960e0>"
            ]
          },
          "metadata": {},
          "execution_count": 40
        }
      ],
      "source": [
        "model_2.fit(X_train, y_train, epochs=5, batch_size=batch_size, validation_data=(X_test, y_test))"
      ]
    },
    {
      "cell_type": "code",
      "execution_count": null,
      "metadata": {
        "id": "EGYbnX_S-e1T"
      },
      "outputs": [],
      "source": [
        "model_2.save('/content/drive/MyDrive/NLP Assignments/Models/1_model_2.keras')"
      ]
    },
    {
      "cell_type": "code",
      "execution_count": null,
      "metadata": {
        "id": "C2yVhVpB-eAd",
        "colab": {
          "base_uri": "https://localhost:8080/"
        },
        "outputId": "d13e48f2-08ab-437f-9978-6a550cb00278"
      },
      "outputs": [
        {
          "output_type": "stream",
          "name": "stdout",
          "text": [
            "850/850 [==============================] - 3s 4ms/step\n"
          ]
        }
      ],
      "source": [
        "y_pred = model_2.predict(X_test)\n",
        "\n",
        "y_pred = np.argmax(y_pred, axis=1)\n",
        "\n",
        "from sklearn.metrics import classification_report\n",
        "\n",
        "class_report_2 = classification_report(y_test, y_pred, target_names=label_encoder.classes_)"
      ]
    },
    {
      "cell_type": "markdown",
      "source": [
        "# Classification Reports\n",
        "----\n",
        "### Classification Report: Model 1"
      ],
      "metadata": {
        "id": "eVsPLbqcS1wY"
      }
    },
    {
      "cell_type": "code",
      "execution_count": null,
      "metadata": {
        "id": "Kur1gjJM-eIe",
        "colab": {
          "base_uri": "https://localhost:8080/"
        },
        "outputId": "58aae902-e5e4-4703-85c5-c461af125f68"
      },
      "outputs": [
        {
          "output_type": "stream",
          "name": "stdout",
          "text": [
            "Model 1\n",
            "              precision    recall  f1-score   support\n",
            "\n",
            "     Country       0.00      0.00      0.00       378\n",
            "     Hip-Hop       0.64      0.41      0.50       447\n",
            "        Jazz       0.74      0.56      0.64      2663\n",
            "       Metal       0.59      0.55      0.57      3595\n",
            "        Rock       0.85      0.91      0.88     20096\n",
            "\n",
            "    accuracy                           0.80     27179\n",
            "   macro avg       0.56      0.48      0.52     27179\n",
            "weighted avg       0.79      0.80      0.79     27179\n",
            "\n",
            "\n",
            "\n",
            "Model 2\n",
            "              precision    recall  f1-score   support\n",
            "\n",
            "     Country       0.00      0.00      0.00       378\n",
            "     Hip-Hop       0.56      0.32      0.41       447\n",
            "        Jazz       0.73      0.55      0.63      2663\n",
            "       Metal       0.63      0.39      0.48      3595\n",
            "        Rock       0.83      0.93      0.88     20096\n",
            "\n",
            "    accuracy                           0.80     27179\n",
            "   macro avg       0.55      0.44      0.48     27179\n",
            "weighted avg       0.77      0.80      0.78     27179\n",
            "\n"
          ]
        }
      ],
      "source": [
        "print('Model 1')\n",
        "print(class_report_1)\n",
        "print('\\n\\nModel 2')\n",
        "print(class_report_2)"
      ]
    }
  ],
  "metadata": {
    "colab": {
      "provenance": [],
      "authorship_tag": "ABX9TyMdMsyhGUYbp8eIutLa/HW2",
      "include_colab_link": true
    },
    "kernelspec": {
      "display_name": "Python 3",
      "name": "python3"
    },
    "language_info": {
      "name": "python"
    }
  },
  "nbformat": 4,
  "nbformat_minor": 0
}